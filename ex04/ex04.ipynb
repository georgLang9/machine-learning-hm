{
 "cells": [
  {
   "cell_type": "code",
   "execution_count": null,
   "metadata": {},
   "outputs": [],
   "source": [
    "# 1a)\n",
    "# Die Entscheidungsebene eines Perzeptrons ist eine Hyperebene.\n",
    "# In Fall von Aufgabe 1 ist diese zweidimensional, wodurch die Hyperebene\n",
    "# Eine Linie in einem Zweidimensionalen Raum ist die Entscheidungsoberfläche\n",
    "\n",
    "# 1b)\n",
    "\n",
    "# w0 = 2\n",
    "# w1 = -0.4\n",
    "# w2 = 0.5\n",
    "\n",
    "# f(x) = w0 + w1*x1 + w2*x2\n",
    "# f(x) = 0\n",
    "# w0 + w1*x1 + w2*x2 = 0\n",
    "# 2 - 0.4*x1 + 0.5*x2 = 0 | * 2\n",
    "# 4 - 0.8*x1 + x2 = 0 | + 0.8*x1, -4\n",
    "# x2 = 0.8*x1 - 4\n",
    "\n",
    "# 1c)\n",
    "# Unsere Gewichte umdrehen indem diese mit *(-1) multipliziert werden\n",
    "\n",
    "# 1d)\n",
    "# w1:\n",
    "# w0 + 3w1 = 0\n",
    "# => 1/3w1\n",
    "# w2:\n",
    "# w0 + 3w2 = 0\n",
    "# => 1/3w2\n",
    "\n",
    "# Für w0 beliebig, z.b = 1\n",
    "# w0 = 1\n",
    "# w1 = 1/3\n",
    "# w2 = 1/3\n",
    "# f(x) = 1 + 1/3x1 + 1/3x2"
   ]
  },
  {
   "cell_type": "code",
   "execution_count": 42,
   "metadata": {},
   "outputs": [
    {
     "name": "stdout",
     "output_type": "stream",
     "text": [
      "[ 8. -1. -2.]\n",
      "30\n"
     ]
    }
   ],
   "source": [
    "import numpy as np\n",
    "\n",
    "def perceptron_learn(w, X, Y):\n",
    "    finished = False\n",
    "    count = 0\n",
    "    while not finished:\n",
    "        count += 1\n",
    "        new_w = w\n",
    "\n",
    "        predictions = np.zeros(3)\n",
    "        for i in range(len(X)):\n",
    "            data_point = X[i]\n",
    "            result = np.dot(w, data_point)\n",
    "            o = 1 if result > 0 else 0\n",
    "            \n",
    "            new_w = new_w + (Y[i] - o) * data_point\n",
    "            predictions[i] = o\n",
    "        w = new_w\n",
    "\n",
    "        if np.array_equiv(predictions, Y):\n",
    "            finished = True\n",
    "\n",
    "    return w, count\n",
    "\n",
    "w = np.zeros(3)\n",
    "X = np.array([\n",
    "    [1,1,2],\n",
    "    [1,2,3],\n",
    "    [1,2,0],\n",
    "])\n",
    "Y = np.array([1,0,1])\n",
    "w, count = perceptron_learn(w, X, Y)\n",
    "print(w)\n",
    "print(count)"
   ]
  },
  {
   "cell_type": "code",
   "execution_count": 51,
   "metadata": {},
   "outputs": [
    {
     "data": {
      "text/plain": [
       "<matplotlib.collections.PolyCollection at 0x1abbc0d4c50>"
      ]
     },
     "execution_count": 51,
     "metadata": {},
     "output_type": "execute_result"
    },
    {
     "data": {
      "image/png": "[encoded data removed]",
      "text/plain": [
       "<Figure size 640x480 with 1 Axes>"
      ]
     },
     "metadata": {},
     "output_type": "display_data"
    }
   ],
   "source": [
    "from matplotlib import pyplot as plt\n",
    "\n",
    "x = [1,2,2]\n",
    "y = [2,3,0]\n",
    "plt.scatter(x, y)\n",
    "\n",
    "# f(x) = (-2)*x2 - 1*x1 + 8\n",
    "# 0 = (-2)*x2 - 1*x1 + 8\n",
    "# x1 = -2*x2 + 8\n",
    "\n",
    "def equation(x1):\n",
    "    return -0.5 * x1 + 4\n",
    "\n",
    "x1 = np.linspace(0, 3)\n",
    "\n",
    "x2 = equation(x1)\n",
    "\n",
    "plt.plot(x1, x2)\n",
    "# plt.fill_between(x1, x2, 10, where=(x2 > 10), color='red')\n",
    "# plt.fill_between(x1, x2, -10, where=(x2 < 10), color='green')\n"
   ]
  }
 ],
 "metadata": {
  "kernelspec": {
   "display_name": "Python 3",
   "language": "python",
   "name": "python3"
  },
  "language_info": {
   "codemirror_mode": {
    "name": "ipython",
    "version": 3
   },
   "file_extension": ".py",
   "mimetype": "text/x-python",
   "name": "python",
   "nbconvert_exporter": "python",
   "pygments_lexer": "ipython3",
   "version": "3.12.0"
  }
 },
 "nbformat": 4,
 "nbformat_minor": 2
}
