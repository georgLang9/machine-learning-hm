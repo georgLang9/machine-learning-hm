{
 "cells": [
  {
   "cell_type": "code",
   "execution_count": 18,
   "metadata": {},
   "outputs": [
    {
     "name": "stdout",
     "output_type": "stream",
     "text": [
      "i_L: 0.9183\n",
      "i_R: 0.9183\n",
      "delta_i_N: 0.0817\n"
     ]
    }
   ],
   "source": [
    "# Aufgabe 1.1\n",
    "# Entropie beträgt überall 0.0817\n",
    "#     frei?\n",
    "#     / \\\n",
    "#    /   \\\n",
    "#   /     \\\n",
    "#  mild?  mild?\n",
    "#  / \\     /  \\\n",
    "# Ja Nein Nein \\\n",
    "#             normal?\n",
    "#              /  \\\n",
    "#             Ja  Nein\n",
    "\n",
    "# Aufgabe 1.2:\n",
    "# Nein\n",
    "\n",
    "# Aufgabe 1.3:\n",
    "# Nein"
   ]
  }
 ],
 "metadata": {
  "kernelspec": {
   "display_name": "Python 3",
   "language": "python",
   "name": "python3"
  },
  "language_info": {
   "codemirror_mode": {
    "name": "ipython",
    "version": 3
   },
   "file_extension": ".py",
   "mimetype": "text/x-python",
   "name": "python",
   "nbconvert_exporter": "python",
   "pygments_lexer": "ipython3",
   "version": "3.11.6"
  }
 },
 "nbformat": 4,
 "nbformat_minor": 2
}
